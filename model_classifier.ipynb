{
 "cells": [
  {
   "cell_type": "code",
   "execution_count": 3,
   "metadata": {
    "collapsed": true
   },
   "outputs": [],
   "source": [
    "import cv2\n",
    "import numpy as np\n",
    "import scipy.io\n",
    "import os"
   ]
  },
  {
   "cell_type": "code",
   "execution_count": 4,
   "outputs": [],
   "source": [
    "os.chdir('data')"
   ],
   "metadata": {
    "collapsed": false
   }
  },
  {
   "cell_type": "code",
   "execution_count": 5,
   "outputs": [],
   "source": [
    "prototxtFilePath = 'deploycompcars.prototxt'\n",
    "modelFilePath = 'googlenet_finetune_web_car_iter_10000.caffemodel'\n",
    "labels = scipy.io.loadmat('labels.mat')\n",
    "car_classifier = cv2.CascadeClassifier('cascades/haarcascade_car.xml')\n",
    "\n",
    "mobilenet_model = 'mobilenet_iter_73000.caffemodel'\n",
    "mobilnet_prottxt = 'deploy.prototxt'\n",
    "net = cv2.dnn.readNetFromCaffe(prototxtFilePath,modelFilePath)\n",
    "detect = cv2.dnn.readNetFromCaffe(mobilnet_prottxt, mobilenet_model)"
   ],
   "metadata": {
    "collapsed": false
   }
  },
  {
   "cell_type": "code",
   "execution_count": 8,
   "outputs": [],
   "source": [
    "def predict(path):\n",
    "    img = np.array(cv2.imread(path))\n",
    "    meanValues=(104, 117, 123)\n",
    "    imgWidth=224\n",
    "    imgHeight=224\n",
    "    blob = cv2.dnn.blobFromImage(img, 1, (imgWidth, imgHeight), meanValues)\n",
    "    net.setInput(blob)\n",
    "    preds = net.forward()\n",
    "    i = np.argmax(preds)\n",
    "    campny = labels['make_model_names'][i][0][0]\n",
    "    model = labels['make_model_names'][i][1][0]\n",
    "    return campny, model"
   ],
   "metadata": {
    "collapsed": false
   }
  },
  {
   "cell_type": "code",
   "execution_count": 9,
   "outputs": [
    {
     "name": "stdout",
     "output_type": "stream",
     "text": [
      "Audi Audi A3 hatchback\n"
     ]
    }
   ],
   "source": [
    "path = '1101-images/1101/2011/5133ca181b82af.jpg'\n",
    "campny, model = predict(path)\n",
    "print(campny, model)"
   ],
   "metadata": {
    "collapsed": false
   }
  },
  {
   "cell_type": "code",
   "execution_count": null,
   "outputs": [],
   "source": [
    "cv2.imshow('car', det[0])\n",
    "cv2.waitKey(0)\n",
    "cv2.destroyAllWindows()"
   ],
   "metadata": {
    "collapsed": false,
    "pycharm": {
     "is_executing": true
    }
   }
  },
  {
   "cell_type": "code",
   "execution_count": null,
   "outputs": [],
   "source": [
    "cap = cv2.VideoCapture('road.mp4')\n",
    "\n",
    "while cap.isOpened():\n",
    "    ret, frame = cap.read()\n",
    "    gray = cv2.cvtColor(frame, cv2.COLOR_BGR2GRAY)\n",
    "\n",
    "    cars = car_classifier.detectMultiScale(gray, 1.6, 2)\n",
    "\n",
    "    for (x,y,w,h) in cars:\n",
    "        cv2.rectangle(frame, (x, y), (x+w, y+h), (0, 255, 255), 2)\n",
    "    cv2.imshow('Cars', frame)\n",
    "\n",
    "    if cv2.waitKey(30) ==27:\n",
    "        break\n",
    "\n",
    "cap.release()\n",
    "cv2.destroyAllWindows()"
   ],
   "metadata": {
    "collapsed": false,
    "pycharm": {
     "is_executing": true
    }
   }
  },
  {
   "cell_type": "code",
   "execution_count": null,
   "outputs": [],
   "source": [],
   "metadata": {
    "collapsed": false
   }
  }
 ],
 "metadata": {
  "kernelspec": {
   "display_name": "Python 3",
   "language": "python",
   "name": "python3"
  },
  "language_info": {
   "codemirror_mode": {
    "name": "ipython",
    "version": 2
   },
   "file_extension": ".py",
   "mimetype": "text/x-python",
   "name": "python",
   "nbconvert_exporter": "python",
   "pygments_lexer": "ipython2",
   "version": "2.7.6"
  }
 },
 "nbformat": 4,
 "nbformat_minor": 0
}
