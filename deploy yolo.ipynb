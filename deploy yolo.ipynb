{
 "cells": [
  {
   "cell_type": "code",
   "execution_count": 1,
   "metadata": {
    "collapsed": true
   },
   "outputs": [],
   "source": [
    "import torch\n",
    "import numpy as np\n",
    "import cv2\n",
    "from time import time\n",
    "import scipy.io\n",
    "import os"
   ]
  },
  {
   "cell_type": "code",
   "execution_count": 2,
   "outputs": [],
   "source": [
    "os.chdir('data')"
   ],
   "metadata": {
    "collapsed": false
   }
  },
  {
   "cell_type": "code",
   "execution_count": 3,
   "outputs": [],
   "source": [
    "prototxtFilePath = 'deploycompcars.prototxt'\n",
    "modelFilePath = 'googlenet_finetune_web_car_iter_10000.caffemodel'\n",
    "labels = scipy.io.loadmat('labels.mat')\n",
    "car_classifier = cv2.CascadeClassifier('cascades/haarcascade_car.xml')\n",
    "\n",
    "mobilenet_model = 'mobilenet_iter_73000.caffemodel'\n",
    "mobilnet_prottxt = 'deploy.prototxt'\n",
    "net = cv2.dnn.readNetFromCaffe(prototxtFilePath,modelFilePath)\n",
    "detect = cv2.dnn.readNetFromCaffe(mobilnet_prottxt, mobilenet_model)"
   ],
   "metadata": {
    "collapsed": false
   }
  },
  {
   "cell_type": "code",
   "execution_count": 11,
   "outputs": [],
   "source": [
    "class CarDetection:\n",
    "    \"\"\"\n",
    "    Class implmentin yolov5 model with opencv\n",
    "    \"\"\"\n",
    "    def __init__(self, capture_index, model_name, output=None):\n",
    "        self.capture_index = capture_index\n",
    "        self.model = self.load_model(model_name)\n",
    "        self.classes = self.model.names\n",
    "        self.width = int(cv2.VideoCapture(capture_index).get(cv2.CAP_PROP_FRAME_WIDTH))\n",
    "        self.height = int(cv2.VideoCapture(capture_index).get(cv2.CAP_PROP_FRAME_HEIGHT))\n",
    "        self.write = self.writer(output)\n",
    "        # self.device = 'cuda' if self.cuda.is_available() else 'cpu'\n",
    "        self.device = 'cpu'\n",
    "        print('Using Device: ', self.device)\n",
    "\n",
    "    def get_video_capture(self):\n",
    "        return cv2.VideoCapture(self.capture_index)\n",
    "\n",
    "    def writer(self, output):\n",
    "        forcc = cv2.VideoWriter_fourcc('P','I','M','1')\n",
    "\n",
    "        writer = cv2.VideoWriter(output, 30, forcc, (self.width, self.height))\n",
    "        return writer\n",
    "\n",
    "    def predict_frame(self, frame):\n",
    "        if frame.shape[0]>2 and frame.shape[1]>2:\n",
    "            meanValues=(104, 117, 123)\n",
    "            imgWidth=224\n",
    "            imgHeight=224\n",
    "            blob = cv2.dnn.blobFromImage(frame, 1, (imgWidth, imgHeight), meanValues)\n",
    "            net.setInput(blob)\n",
    "            preds = net.forward()\n",
    "            i = np.argmax(preds)\n",
    "            campny = labels['make_model_names'][i][0][0]\n",
    "            model = labels['make_model_names'][i][1][0]\n",
    "        else:\n",
    "            campny, model = '', ''\n",
    "        return campny, model\n",
    "\n",
    "    def load_model(self, model_name):\n",
    "        if model_name:\n",
    "            torch.hub.load('ultralytics/yolov5', 'custom', path=model_name, force_reload=True)\n",
    "        else:\n",
    "            model = torch.hub.load('ultralytics/yolov5', 'yolov5s', pretrained=True)\n",
    "\n",
    "        # model = torch.hub.load('yolov5', 'yolov5s', pretrained=True)\n",
    "        return model\n",
    "\n",
    "    def score_frame(self, frame):\n",
    "        self.model.to(self.device)\n",
    "        frame = [frame]\n",
    "        results = self.model(frame)\n",
    "        labels, cord = results.xyxyn[0][:, -1], results.xyxyn[0][:, :-1]\n",
    "        return labels, cord\n",
    "\n",
    "    def class_to_label(self, x):\n",
    "        \"\"\"\n",
    "        For a given label value, return corresponding string label.\n",
    "        :param x: numeric label\n",
    "        :return: corresponding string label\n",
    "        \"\"\"\n",
    "        return self.classes[int(x)]\n",
    "\n",
    "    def plot_boxes(self, results, frame):\n",
    "        labels, cord = results\n",
    "        cars = [i for i in labels if self.class_to_label(i)=='car']\n",
    "        n = len(cars)\n",
    "        x_shape, y_shape = frame.shape[1], frame.shape[0]\n",
    "        for i in range(n):\n",
    "            # if self.class_to_label(i)=='car':\n",
    "            row = cord[i]\n",
    "            if row[4]>=0.2:\n",
    "\n",
    "                x1, y1, x2, y2 = int(row[0]*x_shape), int(row[1]*y_shape), int(row[2]*x_shape), int(row[3]*y_shape)\n",
    "                campny, model = self.predict_frame(frame[x1:x2, y1:y2])\n",
    "                cv2.rectangle(frame, (x1, y1), (x2, y2), (0, 255, 0), 2)\n",
    "                cv2.putText(frame, 'Made: '+campny, (x1, y1-15), cv2.FONT_HERSHEY_SIMPLEX, 0.5, (0, 255, 0), 2)\n",
    "                cv2.putText(frame, 'Model: '+model, (x1, y1-2), cv2.FONT_HERSHEY_SIMPLEX, 0.5, (0, 255, 0), 2)\n",
    "\n",
    "        return frame\n",
    "\n",
    "    def __call__(self, *args, **kwargs):\n",
    "        cap = self.get_video_capture()\n",
    "        assert cap.isOpened()\n",
    "\n",
    "        while True:\n",
    "            ret, frame = cap.read()\n",
    "            assert ret\n",
    "            # frame = cv2.resize(frame, (416, 416))\n",
    "            start_time = time()\n",
    "            results = self.score_frame(frame)\n",
    "            frame = self.plot_boxes(results, frame)\n",
    "\n",
    "            endtime = time()\n",
    "            fps = 1/np.round(endtime - start_time, 2)\n",
    "            cv2.putText(frame, f'FPS: {int(fps)}', (20, 70), cv2.FONT_HERSHEY_SIMPLEX, 1.5, (0, 255, 0), 2)\n",
    "            self.write.write(frame)\n",
    "            cv2.imshow('Detection', frame)\n",
    "\n",
    "            if cv2.waitKey(5) & 0xFF == 27:\n",
    "                break\n",
    "        cap.release()\n",
    "        cv2.destroyAllWindows()"
   ],
   "metadata": {
    "collapsed": false
   }
  },
  {
   "cell_type": "code",
   "execution_count": null,
   "outputs": [],
   "source": [
    "detector = CarDetection(capture_index='try.mp4', model_name=None, output='output.avi')"
   ],
   "metadata": {
    "collapsed": false,
    "pycharm": {
     "is_executing": true
    }
   }
  },
  {
   "cell_type": "code",
   "execution_count": 15,
   "outputs": [],
   "source": [
    "detector()"
   ],
   "metadata": {
    "collapsed": false
   }
  },
  {
   "cell_type": "code",
   "execution_count": null,
   "outputs": [],
   "source": [],
   "metadata": {
    "collapsed": false
   }
  }
 ],
 "metadata": {
  "kernelspec": {
   "display_name": "Python 3",
   "language": "python",
   "name": "python3"
  },
  "language_info": {
   "codemirror_mode": {
    "name": "ipython",
    "version": 2
   },
   "file_extension": ".py",
   "mimetype": "text/x-python",
   "name": "python",
   "nbconvert_exporter": "python",
   "pygments_lexer": "ipython2",
   "version": "2.7.6"
  }
 },
 "nbformat": 4,
 "nbformat_minor": 0
}
